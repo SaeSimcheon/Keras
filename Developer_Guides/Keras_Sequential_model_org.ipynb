{
  "nbformat": 4,
  "nbformat_minor": 0,
  "metadata": {
    "colab": {
      "name": "Keras_Sequential_model_org.ipynb",
      "provenance": [],
      "collapsed_sections": []
    },
    "kernelspec": {
      "name": "python3",
      "display_name": "Python 3"
    },
    "language_info": {
      "name": "python"
    }
  },
  "cells": [
    {
      "cell_type": "markdown",
      "source": [
        "# In this case, sequential model is appropriate\n",
        "\n",
        "- Exactly one input tensor and one output tensor\n",
        "\n",
        "# In this case, sequential model is not appropriate\n",
        "\n",
        "- Model has multiple inputs or outputs\n",
        "- Any of layers has multiple inputs or outputs\n",
        "- Layer sharing\n",
        "- non-linear topology"
      ],
      "metadata": {
        "id": "VphB7CHmqViH"
      }
    },
    {
      "cell_type": "code",
      "execution_count": null,
      "metadata": {
        "id": "NFDw1n-yqAvB"
      },
      "outputs": [],
      "source": [
        "import tensorflow as tf\n",
        "from tensorflow import keras\n",
        "from tensorflow.keras import layers"
      ]
    },
    {
      "cell_type": "markdown",
      "source": [
        "# Start example\n",
        "## Define Sequential model with 3 layers\n"
      ],
      "metadata": {
        "id": "1NZ-VMRlqRN9"
      }
    },
    {
      "cell_type": "code",
      "source": [
        "model = keras.Sequential([\n",
        "                          layers.Dense(2,activation = 'relu',name = \"layer1\"),\n",
        "                          layers.Dense(3,activation = 'relu',name = \"layer2\"),\n",
        "                          layers.Dense(4,name = \"layer3\")\n",
        "])"
      ],
      "metadata": {
        "id": "jxexx3kDuYx4"
      },
      "execution_count": null,
      "outputs": []
    },
    {
      "cell_type": "markdown",
      "source": [
        "## Call model on a test input"
      ],
      "metadata": {
        "id": "VuQ4t5BLqRX3"
      }
    },
    {
      "cell_type": "code",
      "source": [
        "x = tf.ones((3,3))\n",
        "y = model(x)"
      ],
      "metadata": {
        "id": "0BJrzzyOqRgD"
      },
      "execution_count": null,
      "outputs": []
    },
    {
      "cell_type": "markdown",
      "source": [
        "# Access to layers of model"
      ],
      "metadata": {
        "id": "BGT5MZHFqRn0"
      }
    },
    {
      "cell_type": "code",
      "source": [
        "model.layers"
      ],
      "metadata": {
        "id": "1GUjxifFvErw"
      },
      "execution_count": null,
      "outputs": []
    },
    {
      "cell_type": "markdown",
      "source": [
        "# Create a Sequential model incrementally"
      ],
      "metadata": {
        "id": "wyBgT0w-vRqf"
      }
    },
    {
      "cell_type": "code",
      "source": [
        "model = keras.Sequential()\n",
        "model.add(layers.Dense(2,activation='relu'))\n",
        "model.add(layers.Dense(3,activation='relu'))\n",
        "model.add(layers.Dense(4))"
      ],
      "metadata": {
        "id": "m_p09L6ivR6H"
      },
      "execution_count": null,
      "outputs": []
    },
    {
      "cell_type": "markdown",
      "source": [
        "# Remove layers"
      ],
      "metadata": {
        "id": "xiTy21cjvSBo"
      }
    },
    {
      "cell_type": "code",
      "source": [
        "model.pop()\n",
        "model.layers"
      ],
      "metadata": {
        "id": "4sV0ZsvuvSIQ"
      },
      "execution_count": null,
      "outputs": []
    },
    {
      "cell_type": "markdown",
      "source": [
        "# Sequential constructor accepts a name argument\n",
        "- Userful to annotate TensorBoard graphs"
      ],
      "metadata": {
        "id": "hHKDXwrfv9Lf"
      }
    },
    {
      "cell_type": "code",
      "source": [
        "model =keras.Sequential(name=\"my_sequential\")\n",
        "model.add(layers.Dense(2,activation='relu',name = 'layer1'))\n",
        "model.add(layers.Dense(3,activation='relu',name = 'layer2'))\n",
        "model.add(layers.Dense(4,name = 'layer3'))"
      ],
      "metadata": {
        "id": "5Bl2BfDyv9YO"
      },
      "execution_count": null,
      "outputs": []
    },
    {
      "cell_type": "markdown",
      "source": [
        "# When you instantiate a Sequential model without an input shape, it isn't \"built\" \n",
        "- it has no weights\n",
        "- model.weights results in an error starting.\n"
      ],
      "metadata": {
        "id": "EmRy4Ximxp2m"
      }
    },
    {
      "cell_type": "code",
      "source": [
        "model = keras.Sequential([layers.Dense(2,activation = \"relu\"),\n",
        "                          layers.Dense(3,activation = \"relu\"),\n",
        "                          layers.Dense(4)])"
      ],
      "metadata": {
        "id": "qnYBNPNNxp_V"
      },
      "execution_count": null,
      "outputs": []
    },
    {
      "cell_type": "code",
      "source": [
        "model.weights"
      ],
      "metadata": {
        "id": "RfqnyBRRzoBi"
      },
      "execution_count": null,
      "outputs": []
    },
    {
      "cell_type": "code",
      "source": [
        "model.summary()"
      ],
      "metadata": {
        "id": "iKiyd5uUz0iU"
      },
      "execution_count": null,
      "outputs": []
    },
    {
      "cell_type": "code",
      "source": [
        "x = tf.ones((1,4))\n",
        "y = model(x)\n",
        "model.summary()"
      ],
      "metadata": {
        "id": "E3BlYjL_z4Zi"
      },
      "execution_count": null,
      "outputs": []
    },
    {
      "cell_type": "markdown",
      "source": [
        "# Predefined the input shape\n",
        "- useful when building a Sequential model incrementally to be able to display the summary of the model.\n",
        "- I should start my model by passing an input object to my model, so that it knows its input shape from the start.\n",
        "- Input object is not displayed as part of model.layers, since it isn't a layer.\n",
        "- Models with predefined input shape always have weights and a defined output shape.\n"
      ],
      "metadata": {
        "id": "n29ovlqU0CLv"
      }
    },
    {
      "cell_type": "code",
      "source": [
        "model = keras.Sequential()\n",
        "model.add(keras.Input(shape=(4,)))\n",
        "model.add(layers.Dense(2,activation='relu'))\n",
        "\n",
        "model.summary()"
      ],
      "metadata": {
        "id": "6RRynWEK0CYQ"
      },
      "execution_count": null,
      "outputs": []
    },
    {
      "cell_type": "code",
      "source": [
        "model.layers"
      ],
      "metadata": {
        "id": "JlfMvwMX0Cg_"
      },
      "execution_count": null,
      "outputs": []
    },
    {
      "cell_type": "markdown",
      "source": [
        "## A simple alternative\n"
      ],
      "metadata": {
        "id": "k4SzM5Ds0CpX"
      }
    },
    {
      "cell_type": "code",
      "source": [
        "model = keras.Sequential()\n",
        "model.add(layers.Dense(2,activation = 'relu',input = (4,)))\n",
        "\n",
        "model.summary()"
      ],
      "metadata": {
        "id": "Xl71WX6_0Cx2"
      },
      "execution_count": null,
      "outputs": []
    },
    {
      "cell_type": "markdown",
      "source": [
        "# A common debugging workflow\n",
        "- add + summary -> incrementally stack layers and frequently print model summary.\n",
        "- Userful\n"
      ],
      "metadata": {
        "id": "eHIa9cer1-4s"
      }
    },
    {
      "cell_type": "code",
      "source": [
        "model = keras.Sequential()\n",
        "model.add(keras.Input(shape = (250,250,3)))\n",
        "model.add(layers.Conv2D(32,5,strides=2,activation = 'relu'))"
      ],
      "metadata": {
        "id": "5RFiyWeH1_B6"
      },
      "execution_count": null,
      "outputs": []
    },
    {
      "cell_type": "code",
      "source": [
        "model.summary()"
      ],
      "metadata": {
        "id": "8z52ODEt36Pk"
      },
      "execution_count": null,
      "outputs": []
    },
    {
      "cell_type": "code",
      "source": [
        "model.add(layers.Conv2D(32,3,activation = 'relu'))\n",
        "model.summary()"
      ],
      "metadata": {
        "id": "qnKW76K66y9a"
      },
      "execution_count": null,
      "outputs": []
    },
    {
      "cell_type": "code",
      "source": [
        "model.add(layers.MaxPooling2D(3))\n",
        "model.summary()"
      ],
      "metadata": {
        "id": "4yh7HBhE1_MW"
      },
      "execution_count": null,
      "outputs": []
    },
    {
      "cell_type": "markdown",
      "source": [
        "# Q. Why is the output shape Maxpooling 40 40 32 ? (0114)"
      ],
      "metadata": {
        "id": "F0y97XkN1_Vt"
      }
    },
    {
      "cell_type": "code",
      "source": [
        "model.add(layers.Conv2D(32,3,activation = 'relu'))\n",
        "model.add(layers.Conv2D(32,3,activation = 'relu'))\n",
        "model.add(layers.MaxPooling2D(3))\n",
        "model.add(layers.Conv2D(32,3,activation = 'relu'))\n",
        "model.add(layers.Conv2D(32,3,activation = 'relu'))\n",
        "model.add(layers.MaxPooling2D(3))"
      ],
      "metadata": {
        "id": "_EoBeUU41_ev"
      },
      "execution_count": null,
      "outputs": []
    },
    {
      "cell_type": "code",
      "source": [
        "model.summary()"
      ],
      "metadata": {
        "id": "dA8dm8la-R6K"
      },
      "execution_count": null,
      "outputs": []
    },
    {
      "cell_type": "code",
      "source": [
        "model.add(layers.GlobalAveragePooling2D())"
      ],
      "metadata": {
        "id": "KngIHYiT-emV"
      },
      "execution_count": null,
      "outputs": []
    },
    {
      "cell_type": "code",
      "source": [
        "model.add(layers.Dense(10))"
      ],
      "metadata": {
        "id": "0-ES-BAi-jmJ"
      },
      "execution_count": null,
      "outputs": []
    },
    {
      "cell_type": "code",
      "source": [
        "model.summary()"
      ],
      "metadata": {
        "id": "HlOva1Yx-mzc"
      },
      "execution_count": null,
      "outputs": []
    },
    {
      "cell_type": "markdown",
      "source": [
        "# Feature extraction with a sequential model\n",
        "\n",
        "- Once built, it acts like a Functional api model. = Every layer has an input and output.\n",
        "- For example, creating a model that extracts the outputs of all intermediate layers in a Sequentail model.\n",
        "\n"
      ],
      "metadata": {
        "id": "K02ML-4p_NlI"
      }
    },
    {
      "cell_type": "code",
      "source": [
        "initial_model = keras.Sequential([\n",
        "                                  keras.Input(shape =(250,250,3)),\n",
        "                                  layers.Conv2D(32,5,strides=2,activation=\"relu\"),\n",
        "                                  layers.Conv2D(32,3,activation=\"relu\"),\n",
        "                                  layers.Conv2D(32,3,activation=\"relu\")\n",
        "])\n",
        "\n",
        "feature_extractor = keras.Model(\n",
        "    inputs=initial_model.inputs,\n",
        "    outputs = [layer.output for layer in initial_model.layers]\n",
        ")"
      ],
      "metadata": {
        "id": "man8BV6xDnUf"
      },
      "execution_count": null,
      "outputs": []
    },
    {
      "cell_type": "code",
      "source": [
        "x = tf.ones((1,250,250,3))\n",
        "features = feature_extractor(x)\n",
        "features"
      ],
      "metadata": {
        "id": "ycvUce3UDnrc"
      },
      "execution_count": null,
      "outputs": []
    },
    {
      "cell_type": "markdown",
      "source": [
        "# Q. I understand the fact that outputs of intermediate layers can be extracted. I want to know how to use keras.model and whether training is conducted by featrue_extractor or not."
      ],
      "metadata": {
        "id": "V1ffhuf5Dn1Y"
      }
    },
    {
      "cell_type": "markdown",
      "source": [
        "## Extracting feature from only one layer"
      ],
      "metadata": {
        "id": "Z4IBUiRlGh_N"
      }
    },
    {
      "cell_type": "code",
      "source": [
        "initial_model = keras.Sequential([\n",
        "                                  keras.Input(shape=(250,250,3)),\n",
        "                                  layers.Conv2D(32,5,strides=2,activation='relu'),\n",
        "                                  layers.Conv2D(32,3,activation=\"relu\",name = \"my_intermediate_layer\"),\n",
        "                                  layers.Conv2D(32,3,activation = \"relu\")\n",
        "                                  \n",
        "])\n",
        "\n",
        "feature_extractor = keras.Model(\n",
        "    inputs = initial_model.inputs,\n",
        "    outputs = initial_model.get_layer(name=\"my_intermediate_layer\").output\n",
        ")\n",
        "\n",
        "x = tf.ones((1,250,250,3))\n",
        "features = feature_extractor(x)"
      ],
      "metadata": {
        "id": "rDr83TsiGiHW"
      },
      "execution_count": null,
      "outputs": []
    },
    {
      "cell_type": "markdown",
      "source": [
        "# Transfer learning with a Sequential model\n",
        "\n",
        "- Two approaches\n",
        "  - Load pre-trained weights and freeze\n",
        "  - Use a sequential model to stack a pre-trained model."
      ],
      "metadata": {
        "id": "oM-pIIEiI0fC"
      }
    },
    {
      "cell_type": "code",
      "source": [
        "model = keras.Sequential([\n",
        "                          keras.Input(shape=(784)),\n",
        "                          layers.Dense(32,activation = 'relu'),\n",
        "                          layers.Dense(32,activation = 'relu'),\n",
        "                          layers.Dense(32,activation = 'relu'),\n",
        "                          layers.Dense(10)\n",
        "])\n",
        "\n",
        "model.load_weights(...)\n",
        "\n",
        "for layer in model.layers[:-1]:\n",
        "  layer.trainalbe = False\n",
        "model.compile()\n",
        "model.fit()"
      ],
      "metadata": {
        "id": "uK7yEz9jI0ol"
      },
      "execution_count": null,
      "outputs": []
    },
    {
      "cell_type": "code",
      "source": [
        "base_model = keras.applications.Xception(\n",
        "    weights = \"imagenet\",\n",
        "    include_top= False,\n",
        "    pooling = 'avg'\n",
        "\n",
        ")\n",
        "\n",
        "base_model.trainalbe = False\n",
        "\n",
        "model = keras.Sequential([\n",
        "                          base_model,\n",
        "                          layers.Dense(1000)\n",
        "])\n",
        "\n",
        "model.compile()\n",
        "model.fit()"
      ],
      "metadata": {
        "id": "LJNwi3G0I0vT"
      },
      "execution_count": null,
      "outputs": []
    }
  ]
}